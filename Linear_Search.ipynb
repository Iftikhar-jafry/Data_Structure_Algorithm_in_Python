{
 "cells": [
  {
   "cell_type": "code",
   "execution_count": 8,
   "id": "dcf0f2f7",
   "metadata": {},
   "outputs": [],
   "source": [
    "def linear_search(arr,item):\n",
    "    for i in range(len(arr)):\n",
    "        if arr[i]==item:\n",
    "            return i\n",
    "    \n",
    "    return -1"
   ]
  },
  {
   "cell_type": "code",
   "execution_count": 13,
   "id": "5f63e352",
   "metadata": {},
   "outputs": [],
   "source": [
    "arr=[1,4,6,3,7,8,12]"
   ]
  },
  {
   "cell_type": "code",
   "execution_count": 14,
   "id": "7b4f6b05",
   "metadata": {},
   "outputs": [
    {
     "data": {
      "text/plain": [
       "4"
      ]
     },
     "execution_count": 14,
     "metadata": {},
     "output_type": "execute_result"
    }
   ],
   "source": [
    "linear_search(arr,7)"
   ]
  },
  {
   "cell_type": "markdown",
   "id": "18cc48ff",
   "metadata": {},
   "source": [
    "Linear Search which gives all indices of item if multiple time occurs"
   ]
  },
  {
   "cell_type": "code",
   "execution_count": 5,
   "id": "458fe479",
   "metadata": {},
   "outputs": [],
   "source": [
    "def linear_search_all(arr,item):\n",
    "    result=[]\n",
    "    for i in range(len(arr)):\n",
    "        if arr[i]==item:\n",
    "            result.append(i)\n",
    "    \n",
    "    return 'Not Found' if result==[] else result"
   ]
  },
  {
   "cell_type": "code",
   "execution_count": 15,
   "id": "0eec8e36",
   "metadata": {},
   "outputs": [],
   "source": [
    "arr1=[3,5,2,6,2,6,3,6,8]"
   ]
  },
  {
   "cell_type": "code",
   "execution_count": 17,
   "id": "62eeb212",
   "metadata": {},
   "outputs": [
    {
     "data": {
      "text/plain": [
       "[2, 4]"
      ]
     },
     "execution_count": 17,
     "metadata": {},
     "output_type": "execute_result"
    }
   ],
   "source": [
    "linear_search_all(arr1,2)"
   ]
  },
  {
   "cell_type": "markdown",
   "id": "b5df2dd7",
   "metadata": {},
   "source": [
    "Time complexity is O(N)"
   ]
  }
 ],
 "metadata": {
  "kernelspec": {
   "display_name": "Python 3",
   "language": "python",
   "name": "python3"
  },
  "language_info": {
   "codemirror_mode": {
    "name": "ipython",
    "version": 3
   },
   "file_extension": ".py",
   "mimetype": "text/x-python",
   "name": "python",
   "nbconvert_exporter": "python",
   "pygments_lexer": "ipython3",
   "version": "3.12.4"
  }
 },
 "nbformat": 4,
 "nbformat_minor": 5
}
