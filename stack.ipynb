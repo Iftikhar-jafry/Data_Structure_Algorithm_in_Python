{
 "cells": [
  {
   "cell_type": "markdown",
   "id": "acc0807c",
   "metadata": {},
   "source": [
    "Stack through LinkedList"
   ]
  },
  {
   "cell_type": "code",
   "execution_count": 13,
   "id": "68dac75f",
   "metadata": {},
   "outputs": [],
   "source": [
    "class Node:\n",
    "    def __init__(self,value):\n",
    "        self.data=value\n",
    "        self.next=None"
   ]
  },
  {
   "cell_type": "code",
   "execution_count": 83,
   "id": "24e077c1",
   "metadata": {},
   "outputs": [],
   "source": [
    "class stack:\n",
    "    def __init__(self):\n",
    "        self.top=None\n",
    "        self.n=0\n",
    "    \n",
    "    def __len__(self):\n",
    "        return self.n\n",
    "    \n",
    "    def isEmpty(self):\n",
    "        return self.top is None\n",
    "    \n",
    "    def push(self,value):\n",
    "        new_Node=Node(value)\n",
    "        if self.top is None:\n",
    "            self.top=new_Node\n",
    "            return\n",
    "        new_Node.next=self.top\n",
    "        self.top=new_Node\n",
    "        self.n+=1\n",
    "    \n",
    "    def pop(self):\n",
    "        if self.top is None:\n",
    "            return 'Empty Stack'\n",
    "        pop_value=self.top.data\n",
    "        self.top=self.top.next\n",
    "        self.n-=1\n",
    "        return pop_value\n",
    "    \n",
    "    def __str__(self):\n",
    "        if self.top is None:\n",
    "            return 'Empty Stack'\n",
    "        curr=self.top\n",
    "        result=''\n",
    "        while curr is not None:\n",
    "            result=result+'|'+str(curr.data)+'|'+'\\n'\n",
    "            curr=curr.next\n",
    "        return result\n"
   ]
  },
  {
   "cell_type": "code",
   "execution_count": 45,
   "id": "b28a507f",
   "metadata": {},
   "outputs": [],
   "source": [
    "S=stack()"
   ]
  },
  {
   "cell_type": "code",
   "execution_count": 46,
   "id": "6cae47e8",
   "metadata": {},
   "outputs": [
    {
     "data": {
      "text/plain": [
       "0"
      ]
     },
     "execution_count": 46,
     "metadata": {},
     "output_type": "execute_result"
    }
   ],
   "source": [
    "len(S)"
   ]
  },
  {
   "cell_type": "code",
   "execution_count": 47,
   "id": "e790fabe",
   "metadata": {},
   "outputs": [],
   "source": [
    "S.push(12)\n",
    "S.push(13)\n",
    "S.push(14)\n",
    "S.push(15)\n",
    "S.push(16)"
   ]
  },
  {
   "cell_type": "code",
   "execution_count": 48,
   "id": "b49a84a4",
   "metadata": {},
   "outputs": [],
   "source": [
    "S.pop()"
   ]
  },
  {
   "cell_type": "code",
   "execution_count": 49,
   "id": "15e8a293",
   "metadata": {},
   "outputs": [
    {
     "name": "stdout",
     "output_type": "stream",
     "text": [
      "|15|\n",
      "|14|\n",
      "|13|\n",
      "|12|\n",
      "\n"
     ]
    }
   ],
   "source": [
    "print(S)"
   ]
  },
  {
   "cell_type": "code",
   "execution_count": 84,
   "id": "12a5fe4c",
   "metadata": {},
   "outputs": [],
   "source": [
    "def reverse_string(string):\n",
    "  p = stack()\n",
    "  for i in string:\n",
    "    p.push(i)\n",
    "  \n",
    "  res = \"\"\n",
    "\n",
    "  while (not p.isEmpty()):\n",
    "    res = res + str(p.pop())\n",
    "\n",
    "  print(res)\n"
   ]
  },
  {
   "cell_type": "code",
   "execution_count": 86,
   "id": "836ade98",
   "metadata": {},
   "outputs": [
    {
     "name": "stdout",
     "output_type": "stream",
     "text": [
      "niassuh rahkitfi\n"
     ]
    }
   ],
   "source": [
    "reverse_string('iftikhar hussain')"
   ]
  },
  {
   "cell_type": "code",
   "execution_count": 89,
   "id": "6e990f4a",
   "metadata": {},
   "outputs": [],
   "source": [
    "def text_editor(string,pattern):\n",
    "    undo=stack()\n",
    "    redo=stack()\n",
    "\n",
    "    for i in string:\n",
    "        undo.push(i)\n",
    "    \n",
    "    for i in pattern:\n",
    "        if i == 'u':\n",
    "            data=undo.pop()\n",
    "            redo.push(data)\n",
    "        else:\n",
    "            data=redo.pop()\n",
    "            undo.push(data)\n",
    "    \n",
    "    res=''\n",
    "    while not undo.isEmpty():\n",
    "        res=undo.pop()+res\n",
    "    return res"
   ]
  },
  {
   "cell_type": "code",
   "execution_count": null,
   "id": "cb4a062c",
   "metadata": {},
   "outputs": [
    {
     "data": {
      "text/plain": [
       "'iftikharEmpty StackEmpty Stack'"
      ]
     },
     "execution_count": 94,
     "metadata": {},
     "output_type": "execute_result"
    }
   ],
   "source": [
    "text_editor(\"iftikhar\",\"uuurruuuuurr\")"
   ]
  }
 ],
 "metadata": {
  "kernelspec": {
   "display_name": "Python 3",
   "language": "python",
   "name": "python3"
  },
  "language_info": {
   "codemirror_mode": {
    "name": "ipython",
    "version": 3
   },
   "file_extension": ".py",
   "mimetype": "text/x-python",
   "name": "python",
   "nbconvert_exporter": "python",
   "pygments_lexer": "ipython3",
   "version": "3.12.4"
  }
 },
 "nbformat": 4,
 "nbformat_minor": 5
}
