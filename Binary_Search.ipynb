{
 "cells": [
  {
   "cell_type": "markdown",
   "id": "e61ca09b",
   "metadata": {},
   "source": [
    "Binary Search For Sorted Array"
   ]
  },
  {
   "cell_type": "code",
   "execution_count": 21,
   "id": "49401ed7",
   "metadata": {},
   "outputs": [],
   "source": [
    "def Binary_Search(arr,item,low,high):\n",
    "    if low<=high:\n",
    "        mid=(low+high)//2\n",
    "        if arr[mid]==item:\n",
    "            return mid\n",
    "        elif arr[mid]>item:\n",
    "            return Binary_Search(arr,item,low,mid-1)\n",
    "        else:\n",
    "            return Binary_Search(arr,item, mid+1,high)\n",
    "    else:\n",
    "        return f'{item} Not Found'"
   ]
  },
  {
   "cell_type": "code",
   "execution_count": 19,
   "id": "b5060e0e",
   "metadata": {},
   "outputs": [],
   "source": [
    "arr=[1,2,5,12,15,19,20,55,192,291]"
   ]
  },
  {
   "cell_type": "code",
   "execution_count": 23,
   "id": "c43889dd",
   "metadata": {},
   "outputs": [
    {
     "data": {
      "text/plain": [
       "3"
      ]
     },
     "execution_count": 23,
     "metadata": {},
     "output_type": "execute_result"
    }
   ],
   "source": [
    "Binary_Search(arr,12,0,len(arr)-1)"
   ]
  },
  {
   "cell_type": "markdown",
   "id": "e2935e23",
   "metadata": {},
   "source": [
    "Time Complexity O(logN)"
   ]
  }
 ],
 "metadata": {
  "kernelspec": {
   "display_name": "Python 3",
   "language": "python",
   "name": "python3"
  },
  "language_info": {
   "codemirror_mode": {
    "name": "ipython",
    "version": 3
   },
   "file_extension": ".py",
   "mimetype": "text/x-python",
   "name": "python",
   "nbconvert_exporter": "python",
   "pygments_lexer": "ipython3",
   "version": "3.12.4"
  }
 },
 "nbformat": 4,
 "nbformat_minor": 5
}
