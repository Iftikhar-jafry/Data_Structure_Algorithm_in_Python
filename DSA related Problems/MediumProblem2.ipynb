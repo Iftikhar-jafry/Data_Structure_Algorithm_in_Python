{
 "cells": [
  {
   "cell_type": "markdown",
   "id": "45d5c9ef",
   "metadata": {},
   "source": [
    "#### Valid Parentheses\n",
    "<code>Problem: Check if brackets ()[]{} are balanced.<br>\n",
    "Approach: Use a stack to match open/close.</code>"
   ]
  },
  {
   "cell_type": "code",
   "execution_count": 10,
   "id": "41b01cc8",
   "metadata": {},
   "outputs": [],
   "source": [
    "def Parentheses_check(braces):\n",
    "    stack=[]\n",
    "    pairs={')':'(','}':'{',']':'['}\n",
    "\n",
    "    for ch in braces:\n",
    "        if ch in '({[':\n",
    "            stack.append(ch)\n",
    "        elif not stack or stack.pop()!=pairs[ch]:\n",
    "            return False\n",
    "    \n",
    "    return not stack\n"
   ]
  },
  {
   "cell_type": "code",
   "execution_count": 12,
   "id": "df68c08d",
   "metadata": {},
   "outputs": [
    {
     "data": {
      "text/plain": [
       "True"
      ]
     },
     "execution_count": 12,
     "metadata": {},
     "output_type": "execute_result"
    }
   ],
   "source": [
    "Parentheses_check('({{([])}})')"
   ]
  }
 ],
 "metadata": {
  "kernelspec": {
   "display_name": "Python 3",
   "language": "python",
   "name": "python3"
  },
  "language_info": {
   "codemirror_mode": {
    "name": "ipython",
    "version": 3
   },
   "file_extension": ".py",
   "mimetype": "text/x-python",
   "name": "python",
   "nbconvert_exporter": "python",
   "pygments_lexer": "ipython3",
   "version": "3.12.4"
  }
 },
 "nbformat": 4,
 "nbformat_minor": 5
}
