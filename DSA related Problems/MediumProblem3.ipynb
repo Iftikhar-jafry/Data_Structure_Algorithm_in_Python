{
 "cells": [
  {
   "cell_type": "markdown",
   "id": "aa288191",
   "metadata": {},
   "source": [
    "#### Merge Intervals\n",
    "<code>Problem: Given intervals, merge overlapping ones.<br/>\n",
    "Approach: Sort by start, then merge if overlap.</code>"
   ]
  },
  {
   "cell_type": "code",
   "execution_count": 86,
   "id": "b667eff2",
   "metadata": {},
   "outputs": [],
   "source": [
    "def Merge_Interval(arr):\n",
    "    arr=sorted(arr)\n",
    "    Merge=[arr[0]]\n",
    "    \n",
    "    for j in range(1,len(arr)):\n",
    "        last=Merge[-1]\n",
    "        curr=arr[j]\n",
    "        if last[1]>=curr[0]:\n",
    "            li=[last[0],max(last[1], curr[1])]\n",
    "            Merge.pop()\n",
    "            Merge.append(li)\n",
    "        else:\n",
    "            li=[curr[0],curr[1]]\n",
    "            Merge.append(li)\n",
    "\n",
    "    return Merge"
   ]
  },
  {
   "cell_type": "code",
   "execution_count": 87,
   "id": "bb1157ee",
   "metadata": {},
   "outputs": [],
   "source": [
    "arr=[[1, 3], [2, 2],[3,3],[1,4], [5, 7], [8, 10]]"
   ]
  },
  {
   "cell_type": "code",
   "execution_count": 88,
   "id": "0118360e",
   "metadata": {},
   "outputs": [
    {
     "data": {
      "text/plain": [
       "[[1, 4], [5, 7], [8, 10]]"
      ]
     },
     "execution_count": 88,
     "metadata": {},
     "output_type": "execute_result"
    }
   ],
   "source": [
    "Merge_Interval(arr)"
   ]
  }
 ],
 "metadata": {
  "kernelspec": {
   "display_name": "Python 3",
   "language": "python",
   "name": "python3"
  },
  "language_info": {
   "codemirror_mode": {
    "name": "ipython",
    "version": 3
   },
   "file_extension": ".py",
   "mimetype": "text/x-python",
   "name": "python",
   "nbconvert_exporter": "python",
   "pygments_lexer": "ipython3",
   "version": "3.12.4"
  }
 },
 "nbformat": 4,
 "nbformat_minor": 5
}
