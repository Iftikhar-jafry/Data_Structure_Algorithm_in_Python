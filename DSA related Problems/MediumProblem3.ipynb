{
 "cells": [
  {
   "cell_type": "markdown",
   "id": "aa288191",
   "metadata": {},
   "source": [
    "#### Merge Intervals\n",
    "<code>Problem: Given intervals, merge overlapping ones.<br/>\n",
    "Approach: Sort by start, then merge if overlap.</code>"
   ]
  },
  {
   "cell_type": "code",
   "execution_count": 76,
   "id": "b667eff2",
   "metadata": {},
   "outputs": [],
   "source": [
    "def Merge_Interval(arr):\n",
    "    Merge=[[arr[0][0],arr[0][1]]]\n",
    "    i=0\n",
    "    arr=sorted(arr)\n",
    "    for j in range(1,len(arr)):\n",
    "        prev=Merge[i][1]\n",
    "        curr=arr[j][0]\n",
    "        if prev>=curr:\n",
    "            li=[arr[i][0],max(Merge[i][1], arr[j][1])]\n",
    "            Merge.pop()\n",
    "            Merge.append(li)\n",
    "        else:\n",
    "            li=[arr[j][0],arr[j][1]]\n",
    "            Merge.append(li)\n",
    "            i+=1\n",
    "\n",
    "    return Merge"
   ]
  },
  {
   "cell_type": "code",
   "execution_count": 77,
   "id": "bb1157ee",
   "metadata": {},
   "outputs": [],
   "source": [
    "arr=[[1, 3], [2, 2],[3,3],[1,4], [5, 7], [8, 10]]"
   ]
  },
  {
   "cell_type": "code",
   "execution_count": 78,
   "id": "0118360e",
   "metadata": {},
   "outputs": [
    {
     "data": {
      "text/plain": [
       "[[1, 4], [5, 7], [8, 10]]"
      ]
     },
     "execution_count": 78,
     "metadata": {},
     "output_type": "execute_result"
    }
   ],
   "source": [
    "Merge_Interval(arr)"
   ]
  }
 ],
 "metadata": {
  "kernelspec": {
   "display_name": "Python 3",
   "language": "python",
   "name": "python3"
  },
  "language_info": {
   "codemirror_mode": {
    "name": "ipython",
    "version": 3
   },
   "file_extension": ".py",
   "mimetype": "text/x-python",
   "name": "python",
   "nbconvert_exporter": "python",
   "pygments_lexer": "ipython3",
   "version": "3.12.4"
  }
 },
 "nbformat": 4,
 "nbformat_minor": 5
}
