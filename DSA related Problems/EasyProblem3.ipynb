{
 "cells": [
  {
   "cell_type": "markdown",
   "id": "f1485811",
   "metadata": {},
   "source": [
    "#### Linear Search\n",
    "<code> Problem: Search for a number in a list and return its index. </code>"
   ]
  },
  {
   "cell_type": "code",
   "execution_count": 8,
   "id": "8829492f",
   "metadata": {},
   "outputs": [],
   "source": [
    "def index_find(arr,item):\n",
    "    for i in range(len(arr)):\n",
    "        if arr[i]==item:\n",
    "            return i\n",
    "    \n",
    "    return 'Not Found'"
   ]
  },
  {
   "cell_type": "code",
   "execution_count": 10,
   "id": "8c50eb0b",
   "metadata": {},
   "outputs": [
    {
     "data": {
      "text/plain": [
       "'Not Found'"
      ]
     },
     "execution_count": 10,
     "metadata": {},
     "output_type": "execute_result"
    }
   ],
   "source": [
    "index_find([3,5,2,6,7,2],1)"
   ]
  }
 ],
 "metadata": {
  "kernelspec": {
   "display_name": "Python 3",
   "language": "python",
   "name": "python3"
  },
  "language_info": {
   "codemirror_mode": {
    "name": "ipython",
    "version": 3
   },
   "file_extension": ".py",
   "mimetype": "text/x-python",
   "name": "python",
   "nbconvert_exporter": "python",
   "pygments_lexer": "ipython3",
   "version": "3.12.4"
  }
 },
 "nbformat": 4,
 "nbformat_minor": 5
}
