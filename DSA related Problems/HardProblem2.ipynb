{
 "cells": [
  {
   "cell_type": "markdown",
   "id": "1478717f",
   "metadata": {},
   "source": [
    "#### Kth Largest Element in an Array\n",
    "<code>Problem: Find the Kth largest number.</code>"
   ]
  },
  {
   "cell_type": "code",
   "execution_count": 12,
   "id": "d55a9030",
   "metadata": {},
   "outputs": [],
   "source": [
    "def Kth_Element(arr,k):\n",
    "    arr=sorted(arr)\n",
    "    return arr[len(arr)-k]"
   ]
  },
  {
   "cell_type": "markdown",
   "id": "937563d9",
   "metadata": {},
   "source": [
    "<font color='green'> Time Complexity </font> <font color='skyblue'> O(NlogN) </font>\n",
    "<br/> <font color='yellow'> Space Complexity </font> <font color='skyblue'> O(N) </font>"
   ]
  },
  {
   "cell_type": "code",
   "execution_count": 13,
   "id": "1b1d83e4",
   "metadata": {},
   "outputs": [
    {
     "data": {
      "text/plain": [
       "5"
      ]
     },
     "execution_count": 13,
     "metadata": {},
     "output_type": "execute_result"
    }
   ],
   "source": [
    "Kth_Element([2,5,6,2,5,3],2)"
   ]
  },
  {
   "cell_type": "markdown",
   "id": "e3ab45f2",
   "metadata": {},
   "source": [
    "##### Solving Through heap"
   ]
  },
  {
   "cell_type": "code",
   "execution_count": 14,
   "id": "8a9a173c",
   "metadata": {},
   "outputs": [
    {
     "name": "stdout",
     "output_type": "stream",
     "text": [
      "5\n"
     ]
    }
   ],
   "source": [
    "import heapq\n",
    "def kth_largest(nums, k):\n",
    "    heap = nums[:k]\n",
    "    heapq.heapify(heap)\n",
    "    for num in nums[k:]:\n",
    "        if num > heap[0]:\n",
    "            heapq.heappushpop(heap, num)\n",
    "    return heap[0]\n",
    "\n",
    "print(kth_largest([3,2,1,5,6,4], 2))"
   ]
  },
  {
   "cell_type": "markdown",
   "id": "b3cbbcf4",
   "metadata": {},
   "source": [
    "<font color='green'> Time Complexity </font> <font color='skyblue'> O(NlogK) </font>\n",
    "<br/> <font color='yellow'> Space Complexity </font> <font color='skyblue'> O(K) </font>\n",
    "<br/> <i>\n",
    "#### Good Approach better than first one </i>"
   ]
  }
 ],
 "metadata": {
  "kernelspec": {
   "display_name": "Python 3",
   "language": "python",
   "name": "python3"
  },
  "language_info": {
   "codemirror_mode": {
    "name": "ipython",
    "version": 3
   },
   "file_extension": ".py",
   "mimetype": "text/x-python",
   "name": "python",
   "nbconvert_exporter": "python",
   "pygments_lexer": "ipython3",
   "version": "3.12.4"
  }
 },
 "nbformat": 4,
 "nbformat_minor": 5
}
