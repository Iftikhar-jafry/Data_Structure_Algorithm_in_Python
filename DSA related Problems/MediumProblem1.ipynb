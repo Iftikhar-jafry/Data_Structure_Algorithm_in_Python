{
 "cells": [
  {
   "cell_type": "markdown",
   "id": "cccec04a",
   "metadata": {},
   "source": [
    "#### Two Sum\n",
    "<code>Problem: Find two numbers in an array that sum to a target.</code>"
   ]
  },
  {
   "cell_type": "code",
   "execution_count": 1,
   "id": "fbac0ec1",
   "metadata": {},
   "outputs": [],
   "source": [
    "def Sum_equal_target(arr,target):\n",
    "    result=[]\n",
    "\n",
    "    for i in range(0,len(arr)-1):\n",
    "        for j in range(i+1,len(arr)):\n",
    "            if arr[i]+arr[j]==target:\n",
    "                result.append([arr[i],arr[j]])\n",
    "    \n",
    "    return result\n"
   ]
  },
  {
   "cell_type": "code",
   "execution_count": 3,
   "id": "3b2a8f8c",
   "metadata": {},
   "outputs": [
    {
     "data": {
      "text/plain": [
       "[[2, 5], [3, 4], [1, 6]]"
      ]
     },
     "execution_count": 3,
     "metadata": {},
     "output_type": "execute_result"
    }
   ],
   "source": [
    "Sum_equal_target([2,3,1,5,6,7,4],7)"
   ]
  }
 ],
 "metadata": {
  "kernelspec": {
   "display_name": "Python 3",
   "language": "python",
   "name": "python3"
  },
  "language_info": {
   "codemirror_mode": {
    "name": "ipython",
    "version": 3
   },
   "file_extension": ".py",
   "mimetype": "text/x-python",
   "name": "python",
   "nbconvert_exporter": "python",
   "pygments_lexer": "ipython3",
   "version": "3.12.4"
  }
 },
 "nbformat": 4,
 "nbformat_minor": 5
}
