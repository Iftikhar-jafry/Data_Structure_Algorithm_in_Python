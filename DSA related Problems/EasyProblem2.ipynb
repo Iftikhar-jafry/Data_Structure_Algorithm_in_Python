{
 "cells": [
  {
   "cell_type": "markdown",
   "id": "643b2848",
   "metadata": {},
   "source": [
    "#### Find Maximum Element in an Array\n",
    "<code> Find the largest number in an unsorted array.</code>"
   ]
  },
  {
   "cell_type": "code",
   "execution_count": null,
   "id": "af8404d8",
   "metadata": {},
   "outputs": [],
   "source": [
    "def "
   ]
  }
 ],
 "metadata": {
  "kernelspec": {
   "display_name": "Python 3",
   "language": "python",
   "name": "python3"
  },
  "language_info": {
   "name": "python",
   "version": "3.12.4"
  }
 },
 "nbformat": 4,
 "nbformat_minor": 5
}
