{
 "cells": [
  {
   "cell_type": "markdown",
   "id": "022249f4",
   "metadata": {},
   "source": [
    "#### Check for Palindrome\n",
    "* Problem: Given a string, check if it reads the same backward as forward. "
   ]
  },
  {
   "cell_type": "code",
   "execution_count": 17,
   "id": "dc194a5b",
   "metadata": {},
   "outputs": [],
   "source": [
    "def is_palindrome(s):\n",
    "    return s == s[ : :-1]"
   ]
  },
  {
   "cell_type": "code",
   "execution_count": 19,
   "id": "81c48813",
   "metadata": {},
   "outputs": [
    {
     "name": "stdout",
     "output_type": "stream",
     "text": [
      "True\n"
     ]
    }
   ],
   "source": [
    "print(is_palindrome(\"bab\"))"
   ]
  }
 ],
 "metadata": {
  "kernelspec": {
   "display_name": "Python 3",
   "language": "python",
   "name": "python3"
  },
  "language_info": {
   "codemirror_mode": {
    "name": "ipython",
    "version": 3
   },
   "file_extension": ".py",
   "mimetype": "text/x-python",
   "name": "python",
   "nbconvert_exporter": "python",
   "pygments_lexer": "ipython3",
   "version": "3.12.4"
  }
 },
 "nbformat": 4,
 "nbformat_minor": 5
}
