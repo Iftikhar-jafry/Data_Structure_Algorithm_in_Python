{
 "cells": [
  {
   "cell_type": "markdown",
   "id": "f8475ff8",
   "metadata": {},
   "source": [
    "#### Check Anagram\n",
    "<code>Problem: Two strings are anagrams if they contain same characters in any order.</code>"
   ]
  },
  {
   "cell_type": "code",
   "execution_count": 5,
   "id": "f97223c2",
   "metadata": {},
   "outputs": [],
   "source": [
    "def Anagram(string1,string2):\n",
    "    return sorted(string1)==sorted(string2)"
   ]
  },
  {
   "cell_type": "code",
   "execution_count": 8,
   "id": "76bf809c",
   "metadata": {},
   "outputs": [
    {
     "data": {
      "text/plain": [
       "True"
      ]
     },
     "execution_count": 8,
     "metadata": {},
     "output_type": "execute_result"
    }
   ],
   "source": [
    "Anagram('silent','listen')"
   ]
  }
 ],
 "metadata": {
  "kernelspec": {
   "display_name": "Python 3",
   "language": "python",
   "name": "python3"
  },
  "language_info": {
   "codemirror_mode": {
    "name": "ipython",
    "version": 3
   },
   "file_extension": ".py",
   "mimetype": "text/x-python",
   "name": "python",
   "nbconvert_exporter": "python",
   "pygments_lexer": "ipython3",
   "version": "3.12.4"
  }
 },
 "nbformat": 4,
 "nbformat_minor": 5
}
