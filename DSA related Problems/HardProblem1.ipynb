{
 "cells": [
  {
   "cell_type": "markdown",
   "id": "a68e9427",
   "metadata": {},
   "source": [
    "#### Longest Substring Without Repeating Characters\n",
    "<code>Problem: Return length of the longest substring with no repeated characters.<br/>\n",
    "Approach: Use sliding window + set.</code>"
   ]
  },
  {
   "cell_type": "code",
   "execution_count": 7,
   "id": "37c5211c",
   "metadata": {},
   "outputs": [],
   "source": [
    "def Longest_Substring(string):\n",
    "    seen=set()\n",
    "    maxLen=left=0\n",
    "\n",
    "    for right in range(len(string)):\n",
    "        while string[right] in seen:\n",
    "            seen.remove(string[left])\n",
    "            left+=1\n",
    "        seen.add(string[right])\n",
    "        maxLen=max(maxLen,right-left+1)\n",
    "    \n",
    "    return maxLen\n"
   ]
  },
  {
   "cell_type": "code",
   "execution_count": 9,
   "id": "cc24d870",
   "metadata": {},
   "outputs": [
    {
     "data": {
      "text/plain": [
       "3"
      ]
     },
     "execution_count": 9,
     "metadata": {},
     "output_type": "execute_result"
    }
   ],
   "source": [
    "Longest_Substring(\"babu\")"
   ]
  }
 ],
 "metadata": {
  "kernelspec": {
   "display_name": "Python 3",
   "language": "python",
   "name": "python3"
  },
  "language_info": {
   "codemirror_mode": {
    "name": "ipython",
    "version": 3
   },
   "file_extension": ".py",
   "mimetype": "text/x-python",
   "name": "python",
   "nbconvert_exporter": "python",
   "pygments_lexer": "ipython3",
   "version": "3.12.4"
  }
 },
 "nbformat": 4,
 "nbformat_minor": 5
}
