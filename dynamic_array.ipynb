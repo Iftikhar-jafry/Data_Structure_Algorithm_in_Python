{
 "cells": [
  {
   "cell_type": "markdown",
   "id": "fc7ffb17-9ebc-4538-869e-a5a669c482ac",
   "metadata": {},
   "source": [
    "#### How List and it's Functions Works\n",
    "1. len method\n",
    "2. append method\n",
    "3. \\_\\_str__ method (for print)\n",
    "5. pop method\n",
    "6. insert method\n",
    "7. remove method\n",
    "8. find method\n",
    "9. clear method\n",
    "10. \\_\\_getter__ method\n",
    "11. \\_\\_delitem__ method"
   ]
  },
  {
   "cell_type": "code",
   "execution_count": 1,
   "id": "c40bd511-4843-457e-9150-bd9ae2e7fce3",
   "metadata": {},
   "outputs": [],
   "source": [
    "import ctypes\n",
    "import sys"
   ]
  },
  {
   "cell_type": "code",
   "execution_count": 3,
   "id": "f402801b-378c-468a-a38a-61cf0a5b9416",
   "metadata": {},
   "outputs": [],
   "source": [
    "class myList:\n",
    "    def __init__(self):\n",
    "        self.size=1\n",
    "        self.n=0\n",
    "        self.A=self.__make_array(self.size)\n",
    "        \n",
    "    def __len__(self):\n",
    "        return self.n\n",
    "        \n",
    "    def append(self,item):\n",
    "        if self.n==self.size:\n",
    "            self.__resize(self.size*2)\n",
    "        self.A[self.n]=item\n",
    "        self.n=self.n+1\n",
    "\n",
    "    def __str__(self):\n",
    "        result=''\n",
    "        for i in range(self.n):\n",
    "            result=result+str(self.A[i])+','\n",
    "        return '['+result[:-1]+']'\n",
    "    \n",
    "    def pop(self):\n",
    "        if self.n==0:\n",
    "            return \"Empty List\"\n",
    "        val=self.A[self.n-1]\n",
    "        self.n=self.n-1\n",
    "        return val\n",
    "        \n",
    "    def insert(self,pos,item):\n",
    "        if self.n==self.size:\n",
    "            self.__resize(self.size*2)\n",
    "        if pos>=self.n:\n",
    "            pos=self.n\n",
    "        elif pos>=-self.n and pos<0:\n",
    "            pos=self.n+pos\n",
    "        elif pos<-self.n:\n",
    "            pos=0\n",
    "        for i in range(self.n,pos,-1):\n",
    "            self.A[i]=self.A[i-1]\n",
    "        self.A[pos]=item\n",
    "        self.n=self.n+1\n",
    "\n",
    "    def remove(self,item):\n",
    "        pos=self.find(item)\n",
    "        if type(pos) == int:\n",
    "            for i in range(pos ,self.n-1):\n",
    "                self.A[i]=self.A[i+1]\n",
    "            self.n=self.n-1\n",
    "            if self.n==0:\n",
    "                self.clear()\n",
    "            elif self.n<self.size/2:\n",
    "                self.__resize(self.size//2)\n",
    "            \n",
    "        \n",
    "    def find(self,item):\n",
    "        for i in range(self.n):\n",
    "            if self.A[i]==item:\n",
    "                return i\n",
    "        return 'ValueError - not in list'\n",
    "        \n",
    "    def clear(self):\n",
    "        self.size=1\n",
    "        self.n=0\n",
    "\n",
    "    def __getitem__(self,pos):\n",
    "        if 0<=pos<self.n:\n",
    "            return self.A[pos]\n",
    "        else:\n",
    "            return 'IndexError'\n",
    "\n",
    "    def __delitem__(self,pos):\n",
    "        if 0<=pos<self.n:\n",
    "            for i in range(pos,self.n-1):\n",
    "                self.A[i]=self.A[i+1]\n",
    "            self.n=self.n-1\n",
    "        else:\n",
    "            return 'IndexError'\n",
    "            \n",
    "    def __resize(self,new_capacity):\n",
    "        B=self.__make_array(new_capacity)\n",
    "        self.size=new_capacity\n",
    "        for i in range(self.n):\n",
    "            B[i]=self.A[i]\n",
    "        self.A=B\n",
    "    def __make_array(self,capacity):\n",
    "    # referential array(C type)\n",
    "        return (capacity*ctypes.py_object)()\n",
    "     "
   ]
  },
  {
   "cell_type": "code",
   "execution_count": 5,
   "id": "72aa42fc-1d99-44c9-a4d0-c500ba48c1fd",
   "metadata": {},
   "outputs": [],
   "source": [
    "L=myList()"
   ]
  },
  {
   "cell_type": "code",
   "execution_count": 7,
   "id": "1c3c333a-5e28-464a-92d9-851241566122",
   "metadata": {},
   "outputs": [
    {
     "data": {
      "text/plain": [
       "48"
      ]
     },
     "execution_count": 7,
     "metadata": {},
     "output_type": "execute_result"
    }
   ],
   "source": [
    "sys.getsizeof(L)"
   ]
  },
  {
   "cell_type": "code",
   "execution_count": 15,
   "id": "40ec600b-2d81-4264-a523-931e352194db",
   "metadata": {},
   "outputs": [
    {
     "data": {
      "text/plain": [
       "8"
      ]
     },
     "execution_count": 15,
     "metadata": {},
     "output_type": "execute_result"
    }
   ],
   "source": [
    "len(L)"
   ]
  },
  {
   "cell_type": "code",
   "execution_count": 13,
   "id": "e840ec47-f88d-4058-8afc-967512d16afe",
   "metadata": {},
   "outputs": [],
   "source": [
    "L.append(14)\n",
    "L.append(29)\n",
    "L.append(30)\n",
    "L.append(\"hello\")"
   ]
  },
  {
   "cell_type": "code",
   "execution_count": 19,
   "id": "ad856b09-c23a-4e6f-8a95-117365e38cb7",
   "metadata": {},
   "outputs": [
    {
     "data": {
      "text/plain": [
       "30"
      ]
     },
     "execution_count": 19,
     "metadata": {},
     "output_type": "execute_result"
    }
   ],
   "source": [
    "L.pop()"
   ]
  },
  {
   "cell_type": "code",
   "execution_count": 204,
   "id": "a3e96c5b-0be7-4584-a510-6fb07a4ae6ac",
   "metadata": {},
   "outputs": [],
   "source": [
    "L.clear()"
   ]
  },
  {
   "cell_type": "code",
   "execution_count": 21,
   "id": "1dff210e-b58a-4d82-a9fa-42722867f2f1",
   "metadata": {},
   "outputs": [],
   "source": [
    "L.insert(-10,22) #-10 become 0 index if -10 < -len(list) OR if -10 > -len(list) then index=len(list)-10"
   ]
  },
  {
   "cell_type": "code",
   "execution_count": 25,
   "id": "b708f2e2-b72c-4f0d-ac83-bab94d950139",
   "metadata": {},
   "outputs": [
    {
     "data": {
      "text/plain": [
       "3"
      ]
     },
     "execution_count": 25,
     "metadata": {},
     "output_type": "execute_result"
    }
   ],
   "source": [
    "L.find(30)"
   ]
  },
  {
   "cell_type": "code",
   "execution_count": 23,
   "id": "b791318d-323a-421d-8084-9072270a4ab8",
   "metadata": {},
   "outputs": [
    {
     "name": "stdout",
     "output_type": "stream",
     "text": [
      "[22,14,29,30,hello,14,29]\n"
     ]
    }
   ],
   "source": [
    "print(L)"
   ]
  },
  {
   "cell_type": "code",
   "execution_count": null,
   "id": "c9e43c3c-48f3-4aaa-917b-caa37ae4ccd1",
   "metadata": {},
   "outputs": [],
   "source": []
  }
 ],
 "metadata": {
  "kernelspec": {
   "display_name": "Python 3 (ipykernel)",
   "language": "python",
   "name": "python3"
  },
  "language_info": {
   "codemirror_mode": {
    "name": "ipython",
    "version": 3
   },
   "file_extension": ".py",
   "mimetype": "text/x-python",
   "name": "python",
   "nbconvert_exporter": "python",
   "pygments_lexer": "ipython3",
   "version": "3.12.4"
  }
 },
 "nbformat": 4,
 "nbformat_minor": 5
}
