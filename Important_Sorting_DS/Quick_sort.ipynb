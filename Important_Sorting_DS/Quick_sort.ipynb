{
 "cells": [
  {
   "cell_type": "code",
   "execution_count": 11,
   "id": "8fc631d9",
   "metadata": {},
   "outputs": [],
   "source": [
    "def partition(arr,start,end):\n",
    "    idx=start-1\n",
    "    pivot=arr[end]\n",
    "\n",
    "    for j in range(start,end):\n",
    "        if arr[j]<=pivot:\n",
    "            idx+=1\n",
    "            arr[idx],arr[j]=arr[j],arr[idx]\n",
    "    \n",
    "    idx+=1\n",
    "    arr[idx],arr[end]=arr[end],arr[idx]\n",
    "\n",
    "    return idx"
   ]
  },
  {
   "cell_type": "code",
   "execution_count": 12,
   "id": "0930e5d8",
   "metadata": {},
   "outputs": [],
   "source": [
    "def Quick_sort(arr,start,end):\n",
    "    if start<end:\n",
    "        pivot=partition(arr,start,end)\n",
    "        Quick_sort(arr,start,pivot-1)\n",
    "        Quick_sort(arr,pivot+1,end)\n",
    "    return arr\n",
    "\n"
   ]
  },
  {
   "cell_type": "code",
   "execution_count": 16,
   "id": "66ebf279",
   "metadata": {},
   "outputs": [
    {
     "data": {
      "text/plain": [
       "[2, 2, 3, 5, 5, 6, 7, 9]"
      ]
     },
     "execution_count": 16,
     "metadata": {},
     "output_type": "execute_result"
    }
   ],
   "source": [
    "arr=[2,5,2,7,9,5,3,6]\n",
    "Quick_sort(arr,0,len(arr)-1)\n",
    "arr"
   ]
  },
  {
   "cell_type": "code",
   "execution_count": 17,
   "id": "2bbbf2a9",
   "metadata": {},
   "outputs": [
    {
     "data": {
      "text/plain": [
       "[2, 2, 3, 5, 5, 6, 7, 9]"
      ]
     },
     "execution_count": 17,
     "metadata": {},
     "output_type": "execute_result"
    }
   ],
   "source": [
    "arr"
   ]
  }
 ],
 "metadata": {
  "kernelspec": {
   "display_name": "Python 3",
   "language": "python",
   "name": "python3"
  },
  "language_info": {
   "codemirror_mode": {
    "name": "ipython",
    "version": 3
   },
   "file_extension": ".py",
   "mimetype": "text/x-python",
   "name": "python",
   "nbconvert_exporter": "python",
   "pygments_lexer": "ipython3",
   "version": "3.12.4"
  }
 },
 "nbformat": 4,
 "nbformat_minor": 5
}
