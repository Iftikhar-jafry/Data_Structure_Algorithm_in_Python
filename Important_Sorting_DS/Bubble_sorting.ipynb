{
 "cells": [
  {
   "cell_type": "code",
   "execution_count": 49,
   "id": "336d987b",
   "metadata": {},
   "outputs": [],
   "source": [
    "def Bubble_Sort(arr):\n",
    "    for i in range(len(arr)-1):\n",
    "        flag=True\n",
    "        for j in range(len(arr)-1-i):\n",
    "            if arr[j]>arr[j+1]:\n",
    "                flag=False\n",
    "                arr[j],arr[j+1]=arr[j+1],arr[j]\n",
    "        if flag==True:\n",
    "            break\n",
    "    return arr"
   ]
  },
  {
   "cell_type": "code",
   "execution_count": 50,
   "id": "c08f22d1",
   "metadata": {},
   "outputs": [],
   "source": [
    "arr=[1,2,5,3,5,6,1,7]"
   ]
  },
  {
   "cell_type": "code",
   "execution_count": 51,
   "id": "3d604138",
   "metadata": {},
   "outputs": [
    {
     "data": {
      "text/plain": [
       "[1, 1, 2, 3, 5, 5, 6, 7]"
      ]
     },
     "execution_count": 51,
     "metadata": {},
     "output_type": "execute_result"
    }
   ],
   "source": [
    "Bubble_Sort(arr)"
   ]
  },
  {
   "cell_type": "markdown",
   "id": "131b7939",
   "metadata": {},
   "source": [
    "Time complexity is O(N^2)\n",
    "<br>Adaptive Sorting Algorithm (flag)"
   ]
  }
 ],
 "metadata": {
  "kernelspec": {
   "display_name": "Python 3",
   "language": "python",
   "name": "python3"
  },
  "language_info": {
   "codemirror_mode": {
    "name": "ipython",
    "version": 3
   },
   "file_extension": ".py",
   "mimetype": "text/x-python",
   "name": "python",
   "nbconvert_exporter": "python",
   "pygments_lexer": "ipython3",
   "version": "3.12.4"
  }
 },
 "nbformat": 4,
 "nbformat_minor": 5
}
