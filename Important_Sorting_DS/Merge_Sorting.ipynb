{
 "cells": [
  {
   "cell_type": "code",
   "execution_count": 5,
   "id": "0f6cefd6",
   "metadata": {},
   "outputs": [],
   "source": [
    "def Merge_sort(arr):\n",
    "    if len(arr)==1:\n",
    "        return arr\n",
    "\n",
    "    mid=len(arr)//2\n",
    "    left_half=Merge_sort(arr[:mid])\n",
    "    right_half=Merge_sort(arr[mid:])\n",
    "\n",
    "    return Merge_and_Sort(left_half,right_half)"
   ]
  },
  {
   "cell_type": "code",
   "execution_count": 10,
   "id": "fe30ad50",
   "metadata": {},
   "outputs": [],
   "source": [
    "def Merge_and_Sort(left,right):\n",
    "    merge=[]\n",
    "    i=j=0\n",
    "    while i<len(left) and j<len(right):\n",
    "        if left[i]<=right[j]:\n",
    "            merge.append(left[i])\n",
    "            i+=1\n",
    "        else:\n",
    "            merge.append(right[j])\n",
    "            j+=1\n",
    "    \n",
    "    while i<len(left):\n",
    "        merge.append(left[i])\n",
    "        i+=1\n",
    "    while j<len(right):\n",
    "        merge.append(right[j])\n",
    "        j+=1\n",
    "\n",
    "    return merge\n",
    "\n"
   ]
  },
  {
   "cell_type": "code",
   "execution_count": 33,
   "id": "8eabfba1",
   "metadata": {},
   "outputs": [],
   "source": [
    "arr=[2,4,6,5,2,6,2,1]"
   ]
  },
  {
   "cell_type": "code",
   "execution_count": 35,
   "id": "a50bac1c",
   "metadata": {},
   "outputs": [
    {
     "data": {
      "text/plain": [
       "[1, 2, 2, 2, 4, 5, 6, 6]"
      ]
     },
     "execution_count": 35,
     "metadata": {},
     "output_type": "execute_result"
    }
   ],
   "source": [
    "arr[:] = Merge_sort(arr)  # In-place update (same memory)\n",
    "arr"
   ]
  },
  {
   "cell_type": "markdown",
   "id": "9b51fcda",
   "metadata": {},
   "source": [
    "Time Complexity is O(NlogN)\n",
    "<br>\n",
    "Space Complexity is O(N)\n",
    "<br>Non-Adaptive\n",
    "<br>Stable"
   ]
  }
 ],
 "metadata": {
  "kernelspec": {
   "display_name": "Python 3",
   "language": "python",
   "name": "python3"
  },
  "language_info": {
   "codemirror_mode": {
    "name": "ipython",
    "version": 3
   },
   "file_extension": ".py",
   "mimetype": "text/x-python",
   "name": "python",
   "nbconvert_exporter": "python",
   "pygments_lexer": "ipython3",
   "version": "3.12.4"
  }
 },
 "nbformat": 4,
 "nbformat_minor": 5
}
