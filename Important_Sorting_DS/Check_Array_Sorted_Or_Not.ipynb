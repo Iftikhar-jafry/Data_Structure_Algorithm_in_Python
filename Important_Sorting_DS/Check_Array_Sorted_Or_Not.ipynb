{
 "cells": [
  {
   "cell_type": "code",
   "execution_count": 1,
   "id": "cb69e3f4",
   "metadata": {},
   "outputs": [],
   "source": [
    "def is_sorted(arr):\n",
    "    sorted=True\n",
    "    for i in range(len(arr)-1):\n",
    "        if arr[i]>arr[i+1]:\n",
    "            sorted=False\n",
    "            break\n",
    "    \n",
    "    return sorted\n"
   ]
  },
  {
   "cell_type": "code",
   "execution_count": 2,
   "id": "25250b3d",
   "metadata": {},
   "outputs": [],
   "source": [
    "arr0=[1,2,5,6,3,6,7]\n",
    "arr1=[11,12,13,14,15,16,17,18,19]"
   ]
  },
  {
   "cell_type": "code",
   "execution_count": 4,
   "id": "09166bf2",
   "metadata": {},
   "outputs": [
    {
     "name": "stdout",
     "output_type": "stream",
     "text": [
      "False\n",
      "True\n"
     ]
    }
   ],
   "source": [
    "print(is_sorted(arr0))\n",
    "print(is_sorted(arr1))"
   ]
  }
 ],
 "metadata": {
  "kernelspec": {
   "display_name": "Python 3",
   "language": "python",
   "name": "python3"
  },
  "language_info": {
   "codemirror_mode": {
    "name": "ipython",
    "version": 3
   },
   "file_extension": ".py",
   "mimetype": "text/x-python",
   "name": "python",
   "nbconvert_exporter": "python",
   "pygments_lexer": "ipython3",
   "version": "3.12.4"
  }
 },
 "nbformat": 4,
 "nbformat_minor": 5
}
