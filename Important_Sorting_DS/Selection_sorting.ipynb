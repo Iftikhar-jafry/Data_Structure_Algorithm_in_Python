{
 "cells": [
  {
   "cell_type": "code",
   "execution_count": 3,
   "id": "ba0ec1ff",
   "metadata": {},
   "outputs": [],
   "source": [
    "def Selection_sort(arr):\n",
    "    for i in range(len(arr)-1):\n",
    "        for j in range(i+1,len(arr)):\n",
    "            if arr[i]>arr[j]:\n",
    "                arr[i],arr[j]=arr[j],arr[i]\n",
    "    \n",
    "    return arr"
   ]
  },
  {
   "cell_type": "code",
   "execution_count": 1,
   "id": "8077fcaa",
   "metadata": {},
   "outputs": [],
   "source": [
    "arr=[2,3,1,5,7,5]"
   ]
  },
  {
   "cell_type": "code",
   "execution_count": 4,
   "id": "04c4c7af",
   "metadata": {},
   "outputs": [
    {
     "data": {
      "text/plain": [
       "[1, 2, 3, 5, 5, 7]"
      ]
     },
     "execution_count": 4,
     "metadata": {},
     "output_type": "execute_result"
    }
   ],
   "source": [
    "Selection_sort(arr)"
   ]
  },
  {
   "cell_type": "markdown",
   "id": "05a24ad4",
   "metadata": {},
   "source": [
    "Time Complexity is O(N^2)\n",
    "<br>\n",
    "Non-Adaptive Sorting Algorithm because it can't stop until both loops done"
   ]
  }
 ],
 "metadata": {
  "kernelspec": {
   "display_name": "Python 3",
   "language": "python",
   "name": "python3"
  },
  "language_info": {
   "codemirror_mode": {
    "name": "ipython",
    "version": 3
   },
   "file_extension": ".py",
   "mimetype": "text/x-python",
   "name": "python",
   "nbconvert_exporter": "python",
   "pygments_lexer": "ipython3",
   "version": "3.12.4"
  }
 },
 "nbformat": 4,
 "nbformat_minor": 5
}
