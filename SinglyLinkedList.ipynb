{
 "cells": [
  {
   "cell_type": "markdown",
   "id": "6c9c012e-48b0-4a36-a478-3aa0cbf63681",
   "metadata": {},
   "source": [
    "### Methods Used in Linkedlist\n",
    "1. \\_\\_init__ is magic function for constructor initialization\n",
    "2. \\_\\_len__ is magic function for Length finding\n",
    "3. insert_head\n",
    "4. insert_tail\n",
    "5. insert_after\n",
    "6. insert_before\n",
    "7. delete_head\n",
    "8. delete_tail\n",
    "9. remove\n",
    "10. \\_\\_str__ is magic function for print string\n",
    "11. search   by value return index\n",
    "12. __getitem__    by index return value L[2]"
   ]
  },
  {
   "cell_type": "code",
   "execution_count": 1,
   "id": "9f74ddd5-6ae7-4f70-bc89-bf201ddcf2c7",
   "metadata": {},
   "outputs": [],
   "source": [
    "class Node:\n",
    "    def __init__(self,value):\n",
    "        self.data=value\n",
    "        self.next=None"
   ]
  },
  {
   "cell_type": "code",
   "execution_count": 2,
   "id": "720d3843-4f9e-4b1d-af4c-1dc7a48478d1",
   "metadata": {},
   "outputs": [],
   "source": [
    "class LinkedList:\n",
    "    def __init__(self):\n",
    "        self.head=None\n",
    "        self.n=0\n",
    "    # len method to find linkedlist length\n",
    "    def __len__(self):\n",
    "        return self.n\n",
    "    # insert from the head method\n",
    "    def insert_head(self,value):\n",
    "        new_Node=Node(value)\n",
    "        new_Node.next=self.head\n",
    "        self.head=new_Node\n",
    "        self.n+=1\n",
    "\n",
    "    def insert_tail(self,value):\n",
    "        new_Node=Node(value)\n",
    "        if self.head is None:\n",
    "            self.head=new_Node\n",
    "            self.n+=1\n",
    "            return\n",
    "        curr=self.head\n",
    "        while curr.next is not None:\n",
    "            curr=curr.next\n",
    "        curr.next=new_Node\n",
    "        self.n+=1\n",
    "\n",
    "    def insert_after(self,after,value):\n",
    "        new_Node=Node(value)\n",
    "        curr=self.head\n",
    "        while curr is not None:\n",
    "            if curr.data==after:\n",
    "                new_Node.next=curr.next\n",
    "                curr.next=new_Node\n",
    "                self.n+=1\n",
    "                return\n",
    "            curr=curr.next\n",
    "        return f\"{after} is Not Found\"\n",
    "\n",
    "    def insert_before(self,before,value):\n",
    "        new_Node=Node(value)\n",
    "        if self.head is None:\n",
    "            return \"Empty Linkedlist\"\n",
    "\n",
    "        if self.head.data==before:\n",
    "            self.insert_head(value)\n",
    "            return\n",
    "        prev=None\n",
    "        curr=self.head\n",
    "\n",
    "        while curr!=None:\n",
    "            if curr.data==before:\n",
    "                new_Node.next=curr\n",
    "                prev.next=new_Node\n",
    "                self.n+=1\n",
    "                return\n",
    "            prev=curr\n",
    "            curr=curr.next\n",
    "        return f\"{before} is Not Found\"\n",
    "        \n",
    "       \n",
    "    def delete_head(self):\n",
    "        if self.head is None:\n",
    "            return 'Empty Linkedlist'\n",
    "        self.head=self.head.next\n",
    "        self.n-=1\n",
    "        \n",
    "    def delete_tail(self):\n",
    "        if self.head is None:\n",
    "            return 'Empty Linkedlist'\n",
    "        if self.head.next==None:\n",
    "            self.head=None\n",
    "            self.n-=1\n",
    "            return\n",
    "        prev=None\n",
    "        curr=self.head\n",
    "        while curr.next is not None:\n",
    "            prev=curr\n",
    "            curr=curr.next\n",
    "        prev.next=None\n",
    "        self.n-=1\n",
    "\n",
    "    def remove(self,value):\n",
    "        if self.head is None:\n",
    "            return 'Empty Linkedlist'\n",
    "        if self.head.data==value:\n",
    "            self.delete_head()\n",
    "            return\n",
    "        curr=self.head\n",
    "        while curr.next is not None:\n",
    "            if curr.next.data==value:\n",
    "                curr.next=curr.next.next\n",
    "                self.n-=1\n",
    "                return\n",
    "            curr=curr.next\n",
    "        return f'{value} Not Found'\n",
    "\n",
    "    def search(self, value):\n",
    "        if self.head is None:\n",
    "            return 'Empty Linkedlist'\n",
    "        pos=0\n",
    "        curr=self.head\n",
    "        while curr is not None:\n",
    "            if curr.data == value:\n",
    "                return pos\n",
    "            pos+=1\n",
    "            curr=curr.next\n",
    "        return f'{value} Not Found'\n",
    "\n",
    "    def __getitem__(self,ind):\n",
    "        if self.head is None:\n",
    "            return 'Empty Linkedlist'\n",
    "        curr=self.head\n",
    "        pos=0\n",
    "        while curr is not None:\n",
    "            if pos==ind:\n",
    "                return curr.data\n",
    "            pos+=1\n",
    "            curr=curr.next\n",
    "        return f'{ind} is Out of Range'\n",
    "\n",
    "    def clear(self):\n",
    "        self.head=None\n",
    "        self.n=0\n",
    "        \n",
    "    def __str__(self):\n",
    "\n",
    "        curr = self.head\n",
    "        \n",
    "        result = ''\n",
    "        \n",
    "        while curr != None:\n",
    "          result = result + str(curr.data) + '->'\n",
    "          curr = curr.next\n",
    "        \n",
    "        return result[:-2] if result else 'Empty Linkedlist'\n",
    "\n",
    "\n"
   ]
  },
  {
   "cell_type": "code",
   "execution_count": 3,
   "id": "5944e6c1-6693-494b-b27b-36b2b9eb1255",
   "metadata": {},
   "outputs": [],
   "source": [
    "L=LinkedList()"
   ]
  },
  {
   "cell_type": "code",
   "execution_count": 16,
   "id": "dcecafe0-d218-4e38-9479-3833565f0482",
   "metadata": {},
   "outputs": [
    {
     "data": {
      "text/plain": [
       "4"
      ]
     },
     "execution_count": 16,
     "metadata": {},
     "output_type": "execute_result"
    }
   ],
   "source": [
    "len(L)"
   ]
  },
  {
   "cell_type": "code",
   "execution_count": 15,
   "id": "37569ed4-154b-4ec4-a285-b2a53fc7cfaf",
   "metadata": {},
   "outputs": [],
   "source": [
    "L.insert_head(11)\n",
    "L.insert_head(12)\n",
    "L.insert_head(13)\n",
    "L.insert_head(14)"
   ]
  },
  {
   "cell_type": "code",
   "execution_count": 6,
   "id": "aca5e5a8-ced3-439a-81c2-650a82c8f470",
   "metadata": {},
   "outputs": [],
   "source": [
    "L.insert_tail(12)"
   ]
  },
  {
   "cell_type": "code",
   "execution_count": 7,
   "id": "3ccddacf-e53a-40d8-8b47-d6f6b0fbc1c8",
   "metadata": {},
   "outputs": [],
   "source": [
    "L.insert_after(12,30)"
   ]
  },
  {
   "cell_type": "code",
   "execution_count": 8,
   "id": "005a8eef-2804-4e3c-98f7-0528611414d5",
   "metadata": {},
   "outputs": [],
   "source": [
    "L.insert_before(14,20)"
   ]
  },
  {
   "cell_type": "code",
   "execution_count": 9,
   "id": "ac10b71b-520d-4422-b7fd-d9ff2e2ec278",
   "metadata": {},
   "outputs": [],
   "source": [
    "L.delete_head()"
   ]
  },
  {
   "cell_type": "code",
   "execution_count": 10,
   "id": "0fcd4017-f234-4bef-994b-3f418f77ba77",
   "metadata": {},
   "outputs": [],
   "source": [
    "L.delete_tail()"
   ]
  },
  {
   "cell_type": "code",
   "execution_count": 11,
   "id": "510f23b5-a03b-46f8-84c6-540ae761ffa0",
   "metadata": {},
   "outputs": [
    {
     "data": {
      "text/plain": [
       "'20 Not Found'"
      ]
     },
     "execution_count": 11,
     "metadata": {},
     "output_type": "execute_result"
    }
   ],
   "source": [
    "L.remove(20)"
   ]
  },
  {
   "cell_type": "code",
   "execution_count": 12,
   "id": "ff099819-2ef9-4aec-9fc9-ac56e115baf9",
   "metadata": {},
   "outputs": [],
   "source": [
    "L.clear()"
   ]
  },
  {
   "cell_type": "code",
   "execution_count": 13,
   "id": "9cee2dbb-333e-4abe-a23f-7b1bf426ca1c",
   "metadata": {},
   "outputs": [
    {
     "data": {
      "text/plain": [
       "'Empty Linkedlist'"
      ]
     },
     "execution_count": 13,
     "metadata": {},
     "output_type": "execute_result"
    }
   ],
   "source": [
    "L[0]"
   ]
  },
  {
   "cell_type": "code",
   "execution_count": 14,
   "id": "478a8d91-6d50-4643-af3c-c8840fc10cb1",
   "metadata": {},
   "outputs": [
    {
     "name": "stdout",
     "output_type": "stream",
     "text": [
      "Empty Linkedlist\n"
     ]
    }
   ],
   "source": [
    "print(L)"
   ]
  }
 ],
 "metadata": {
  "kernelspec": {
   "display_name": "Python 3",
   "language": "python",
   "name": "python3"
  },
  "language_info": {
   "codemirror_mode": {
    "name": "ipython",
    "version": 3
   },
   "file_extension": ".py",
   "mimetype": "text/x-python",
   "name": "python",
   "nbconvert_exporter": "python",
   "pygments_lexer": "ipython3",
   "version": "3.12.4"
  }
 },
 "nbformat": 4,
 "nbformat_minor": 5
}
