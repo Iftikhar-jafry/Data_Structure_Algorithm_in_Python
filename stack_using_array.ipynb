{
 "cells": [
  {
   "cell_type": "code",
   "execution_count": 29,
   "id": "206f4005",
   "metadata": {},
   "outputs": [],
   "source": [
    "class stack:\n",
    "    def __init__(self,size):\n",
    "        self.size=size\n",
    "        self.__stack=[None]*self.size\n",
    "        self.top=-1\n",
    "    \n",
    "    def push(self,value):\n",
    "        if self.top==self.size-1:\n",
    "            return 'stack Overflow'\n",
    "        else:\n",
    "            self.top+=1\n",
    "            self.__stack[self.top]=value\n",
    "\n",
    "    def pop(self):\n",
    "        if self.top==-1:\n",
    "            return 'stack is empty'\n",
    "        else:\n",
    "            data=self.__stack[self.top]\n",
    "            self.top-=1\n",
    "            print(data)\n",
    "    \n",
    "    def traverse(self):\n",
    "        for i in range(self.top+1):\n",
    "            print(self.__stack[i],end=' ')\n",
    "    \n",
    "    def bracket_check(self,string):\n",
    "        opening='[{('\n",
    "        closing=']})'\n",
    "        match={')':'(','}':'{',']':'['}\n",
    "\n",
    "        for i in string:\n",
    "            if i in opening:\n",
    "                self.push(i)\n",
    "            elif i in closing:\n",
    "                if not self.__stack or self.__stack[self.top]!=match[i]:\n",
    "                    return 'Bracket Imbalance'\n",
    "                self.pop()\n",
    "        \n",
    "        if self.top!=-1:\n",
    "            return 'Bracket Imbalance'\n",
    "        else:\n",
    "            return 'Bracket is Balance'\n"
   ]
  },
  {
   "cell_type": "code",
   "execution_count": 37,
   "id": "7eda6941",
   "metadata": {},
   "outputs": [],
   "source": [
    "S=stack(15)"
   ]
  },
  {
   "cell_type": "code",
   "execution_count": 7,
   "id": "ed1c4a5e",
   "metadata": {},
   "outputs": [],
   "source": [
    "S.push(2)\n",
    "S.push(3)\n",
    "S.push(4)\n",
    "S.push(5)\n",
    "S.push(6)"
   ]
  },
  {
   "cell_type": "code",
   "execution_count": 10,
   "id": "198541ab",
   "metadata": {},
   "outputs": [
    {
     "name": "stdout",
     "output_type": "stream",
     "text": [
      "5\n"
     ]
    }
   ],
   "source": [
    "S.pop()"
   ]
  },
  {
   "cell_type": "code",
   "execution_count": 15,
   "id": "95d80108",
   "metadata": {},
   "outputs": [],
   "source": [
    "S.traverse()"
   ]
  },
  {
   "cell_type": "code",
   "execution_count": 38,
   "id": "fccaa098",
   "metadata": {},
   "outputs": [
    {
     "name": "stdout",
     "output_type": "stream",
     "text": [
      "{\n",
      "(\n"
     ]
    },
    {
     "data": {
      "text/plain": [
       "'Bracket is Balance'"
      ]
     },
     "execution_count": 38,
     "metadata": {},
     "output_type": "execute_result"
    }
   ],
   "source": [
    "S.bracket_check('2({})')"
   ]
  }
 ],
 "metadata": {
  "kernelspec": {
   "display_name": "Python 3",
   "language": "python",
   "name": "python3"
  },
  "language_info": {
   "codemirror_mode": {
    "name": "ipython",
    "version": 3
   },
   "file_extension": ".py",
   "mimetype": "text/x-python",
   "name": "python",
   "nbconvert_exporter": "python",
   "pygments_lexer": "ipython3",
   "version": "3.12.4"
  }
 },
 "nbformat": 4,
 "nbformat_minor": 5
}
