{
 "cells": [
  {
   "cell_type": "code",
   "execution_count": 1,
   "id": "d5f99cd2",
   "metadata": {},
   "outputs": [],
   "source": [
    "class Node:\n",
    "    def __init__(self,value):\n",
    "        self.data=value\n",
    "        self.next=None"
   ]
  },
  {
   "cell_type": "code",
   "execution_count": 12,
   "id": "5cd51cde",
   "metadata": {},
   "outputs": [],
   "source": [
    "class Queue:\n",
    "    def __init__(self):\n",
    "        self.n=0\n",
    "        self.head=None\n",
    "        self.tail=None\n",
    "    \n",
    "    def __len__(self):\n",
    "        return self.n\n",
    "    \n",
    "    def enqueue(self,value):\n",
    "        new_Node=Node(value)\n",
    "        if self.head is None:\n",
    "            self.head=self.tail=new_Node\n",
    "            return\n",
    "        self.tail.next=new_Node\n",
    "        self.tail=new_Node\n",
    "        self.n+=1\n",
    "    \n",
    "    def dequeue(self):\n",
    "        if self.head is None:\n",
    "            return 'Empty Queue'\n",
    "        data=self.head.data\n",
    "        self.head=self.head.next\n",
    "        self.n-=1\n",
    "        return data\n",
    "\n",
    "    def __str__(self):\n",
    "        if self.head is None:\n",
    "            return 'Empty Queue'\n",
    "        curr=self.head\n",
    "        result=''\n",
    "        while curr is not None:\n",
    "            result=result+str(curr.data)+' '\n",
    "            curr=curr.next\n",
    "        return result\n"
   ]
  },
  {
   "cell_type": "code",
   "execution_count": 13,
   "id": "d7127de3",
   "metadata": {},
   "outputs": [],
   "source": [
    "Q=Queue()"
   ]
  },
  {
   "cell_type": "code",
   "execution_count": 18,
   "id": "553ad2b4",
   "metadata": {},
   "outputs": [
    {
     "data": {
      "text/plain": [
       "3"
      ]
     },
     "execution_count": 18,
     "metadata": {},
     "output_type": "execute_result"
    }
   ],
   "source": [
    "len(Q)"
   ]
  },
  {
   "cell_type": "code",
   "execution_count": 14,
   "id": "f4a77447",
   "metadata": {},
   "outputs": [],
   "source": [
    "Q.enqueue(14)\n",
    "Q.enqueue(15)\n",
    "Q.enqueue(16)\n",
    "Q.enqueue(17)\n",
    "Q.enqueue(18)\n"
   ]
  },
  {
   "cell_type": "code",
   "execution_count": 16,
   "id": "44bc0043",
   "metadata": {},
   "outputs": [
    {
     "data": {
      "text/plain": [
       "14"
      ]
     },
     "execution_count": 16,
     "metadata": {},
     "output_type": "execute_result"
    }
   ],
   "source": [
    "Q.dequeue()"
   ]
  },
  {
   "cell_type": "code",
   "execution_count": 17,
   "id": "83c68d3b",
   "metadata": {},
   "outputs": [
    {
     "name": "stdout",
     "output_type": "stream",
     "text": [
      "15 16 17 18 \n"
     ]
    }
   ],
   "source": [
    "print(Q)"
   ]
  }
 ],
 "metadata": {
  "kernelspec": {
   "display_name": "Python 3",
   "language": "python",
   "name": "python3"
  },
  "language_info": {
   "codemirror_mode": {
    "name": "ipython",
    "version": 3
   },
   "file_extension": ".py",
   "mimetype": "text/x-python",
   "name": "python",
   "nbconvert_exporter": "python",
   "pygments_lexer": "ipython3",
   "version": "3.12.4"
  }
 },
 "nbformat": 4,
 "nbformat_minor": 5
}
